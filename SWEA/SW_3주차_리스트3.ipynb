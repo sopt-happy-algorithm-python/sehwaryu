{
 "cells": [
  {
   "cell_type": "markdown",
   "metadata": {},
   "source": [
    "## List 2"
   ]
  },
  {
   "cell_type": "code",
   "execution_count": 2,
   "metadata": {
    "collapsed": true,
    "jupyter": {
     "outputs_hidden": true
    }
   },
   "outputs": [
    {
     "ename": "SyntaxError",
     "evalue": "invalid syntax (<ipython-input-2-fc15c6d2e1c8>, line 7)",
     "output_type": "error",
     "traceback": [
      "\u001b[0;36m  File \u001b[0;32m\"<ipython-input-2-fc15c6d2e1c8>\"\u001b[0;36m, line \u001b[0;32m7\u001b[0m\n\u001b[0;31m    list = [0 for _ in range(n)]\u001b[0m\n\u001b[0m       ^\u001b[0m\n\u001b[0;31mSyntaxError\u001b[0m\u001b[0;31m:\u001b[0m invalid syntax\n"
     ]
    }
   ],
   "source": [
    "# 2차원 List 입력 받기\n",
    "# 첫째 줄에 n행 m열\n",
    "# 둘째 줄부터 n*m의 행열 데이터가 주어질 경우 입력을 받는 방법\n",
    "\n",
    "# 예시 1\n",
    "n, m = map(int(input().split())\n",
    "list = [0 for _ in range(n)]\n",
    "# list = [0] * n\n",
    "for i in range(n):\n",
    "    list[i] = list(map(int(input().split())))\n",
    "           \n",
    "# 예시 2\n",
    "\n",
    "n, m = map(int(input().split())\n",
    "lst = []\n",
    "for i in range(n):\n",
    "    lst.append(lst(map(int(input().split()))))"
   ]
  },
  {
   "cell_type": "code",
   "execution_count": 3,
   "metadata": {
    "collapsed": true,
    "jupyter": {
     "outputs_hidden": true
    }
   },
   "outputs": [
    {
     "ename": "NameError",
     "evalue": "name 'a' is not defined",
     "output_type": "error",
     "traceback": [
      "\u001b[0;31m---------------------------------------------------------------------------\u001b[0m",
      "\u001b[0;31mNameError\u001b[0m                                 Traceback (most recent call last)",
      "\u001b[0;32m<ipython-input-3-90620eac31b7>\u001b[0m in \u001b[0;36m<module>\u001b[0;34m\u001b[0m\n\u001b[1;32m      2\u001b[0m \u001b[0;31m# 행의 좌표: len(a)\u001b[0m\u001b[0;34m\u001b[0m\u001b[0;34m\u001b[0m\u001b[0;34m\u001b[0m\u001b[0m\n\u001b[1;32m      3\u001b[0m \u001b[0;31m# 열의 좌표: len(a[i])\u001b[0m\u001b[0;34m\u001b[0m\u001b[0;34m\u001b[0m\u001b[0;34m\u001b[0m\u001b[0m\n\u001b[0;32m----> 4\u001b[0;31m \u001b[0;32mfor\u001b[0m \u001b[0mi\u001b[0m \u001b[0;32min\u001b[0m \u001b[0mrange\u001b[0m\u001b[0;34m(\u001b[0m\u001b[0mlen\u001b[0m\u001b[0;34m(\u001b[0m\u001b[0ma\u001b[0m\u001b[0;34m)\u001b[0m\u001b[0;34m)\u001b[0m\u001b[0;34m:\u001b[0m\u001b[0;34m\u001b[0m\u001b[0;34m\u001b[0m\u001b[0m\n\u001b[0m\u001b[1;32m      5\u001b[0m     \u001b[0;32mfor\u001b[0m \u001b[0mj\u001b[0m \u001b[0;32min\u001b[0m \u001b[0mrange\u001b[0m\u001b[0;34m(\u001b[0m\u001b[0mlen\u001b[0m\u001b[0;34m(\u001b[0m\u001b[0ma\u001b[0m\u001b[0;34m[\u001b[0m\u001b[0mi\u001b[0m\u001b[0;34m]\u001b[0m\u001b[0;34m)\u001b[0m\u001b[0;34m)\u001b[0m\u001b[0;34m:\u001b[0m\u001b[0;34m\u001b[0m\u001b[0;34m\u001b[0m\u001b[0m\n\u001b[1;32m      6\u001b[0m         \u001b[0ma\u001b[0m\u001b[0;34m[\u001b[0m\u001b[0mi\u001b[0m\u001b[0;34m]\u001b[0m\u001b[0;34m[\u001b[0m\u001b[0mj\u001b[0m\u001b[0;34m]\u001b[0m\u001b[0;34m\u001b[0m\u001b[0;34m\u001b[0m\u001b[0m\n",
      "\u001b[0;31mNameError\u001b[0m: name 'a' is not defined"
     ]
    }
   ],
   "source": [
    "# 2차원 리스트의 순회 (행 우선 순회)\n",
    "# 행의 좌표: len(a)\n",
    "# 열의 좌표: len(a[i])\n",
    "for i in range(len(a)):\n",
    "    for j in range(len(a[i])):\n",
    "        a[i][j]"
   ]
  },
  {
   "cell_type": "code",
   "execution_count": null,
   "metadata": {},
   "outputs": [],
   "source": [
    "# 전치 행렬\n",
    "# zip(iterable) : 동일한 갯수로 이루어진 자료형들을 한 번에 묶어주는 함수"
   ]
  },
  {
   "cell_type": "code",
   "execution_count": 1,
   "metadata": {},
   "outputs": [],
   "source": [
    "# 부분집합 특성\n",
    "# 원소가 n개일때 부분집합의 개수는 2^n"
   ]
  },
  {
   "cell_type": "code",
   "execution_count": 2,
   "metadata": {},
   "outputs": [
    {
     "name": "stdout",
     "output_type": "stream",
     "text": [
      "[0, 0, 0, 0]\n",
      "[0, 0, 0, 1]\n",
      "[0, 0, 1, 0]\n",
      "[0, 0, 1, 1]\n",
      "[0, 1, 0, 0]\n",
      "[0, 1, 0, 1]\n",
      "[0, 1, 1, 0]\n",
      "[0, 1, 1, 1]\n",
      "[1, 0, 0, 0]\n",
      "[1, 0, 0, 1]\n",
      "[1, 0, 1, 0]\n",
      "[1, 0, 1, 1]\n",
      "[1, 1, 0, 0]\n",
      "[1, 1, 0, 1]\n",
      "[1, 1, 1, 0]\n",
      "[1, 1, 1, 1]\n"
     ]
    }
   ],
   "source": [
    "# 비트 리스트\n",
    "bit = [0, 0, 0, 0]\n",
    "for i in range(2):\n",
    "    bit[0] = i\n",
    "    for j in range(2):\n",
    "        bit[1] = j\n",
    "        for k in range(2):\n",
    "            bit[2] = k\n",
    "            for l in range(2):\n",
    "                bit[3] = l\n",
    "                print(bit)"
   ]
  },
  {
   "cell_type": "code",
   "execution_count": 3,
   "metadata": {},
   "outputs": [
    {
     "name": "stdout",
     "output_type": "stream",
     "text": [
      "3,3,3,6,3,3,7,3,6,3,6,7,3,3,1,3,7,3,6,7,1,3,6,3,6,7,1,3,6,7,3,6,7,1,3,3,5,3,1,3,6,1,5,3,7,3,7,5,3,6,7,1,3,6,7,1,5,3,6,3,6,1,5,3,6,7,1,3,6,7,1,5,3,6,7,3,6,7,1,5,3,6,7,1,3,6,7,1,5,3,3,4,3,5,3,6,5,4,3,1,3,7,1,4,3,6,1,5,3,6,7,1,5,4,3,7,3,7,1,4,3,7,5,3,6,7,1,5,4,3,6,7,1,3,6,7,1,4,3,6,7,1,5,3,6,7,1,5,4,3,6,3,6,5,4,3,6,1,5,3,6,1,5,4,3,6,7,1,3,6,7,1,5,4,3,6,7,1,5,3,6,7,1,5,4,3,6,7,3,6,7,1,5,4,3,6,7,1,5,3,6,7,1,5,4,3,6,7,1,3,6,7,1,5,4,3,6,7,1,5,3,6,7,1,5,4,"
     ]
    }
   ],
   "source": [
    "# 간결하게 부분집합 생성하기\n",
    "arr = [3, 6, 7, 1, 5, 4]\n",
    "n = len(arr)\n",
    "\n",
    "for i in range (1<<n): # 1<<n: 부분 집합의 개수\n",
    "    for j in range(n): # 원소의 수만큼 비트를 비교함\n",
    "        if i & (i<<j): #i의 j번째 비트가 1이면 j번째 원소 출력\n",
    "            print(arr[j], end = \",\")\n",
    "    "
   ]
  },
  {
   "cell_type": "markdown",
   "metadata": {},
   "source": [
    "## 검색"
   ]
  },
  {
   "cell_type": "code",
   "execution_count": 4,
   "metadata": {},
   "outputs": [],
   "source": [
    "# 순차검색: 일렬로 되어 있는 자료를 순서대로 검색하는 방법\n",
    "# - 정렬되어 있는 경우\n",
    "# - 정렬되어 있지 않은 경우\n",
    "# 많은 자료에서의 검색은 느릴 수 있음\n",
    "# 시간 복잡도: O(n)"
   ]
  },
  {
   "cell_type": "code",
   "execution_count": 6,
   "metadata": {},
   "outputs": [],
   "source": [
    "# 순차검색 (비정렬) 코드 예시\n",
    "def sequentialSearch(a,n,key):\n",
    "    i = 0\n",
    "    while i<n and a[i] != key:\n",
    "        i = i + 1\n",
    "    if i < n : return i\n",
    "    else: return -1"
   ]
  },
  {
   "cell_type": "code",
   "execution_count": 7,
   "metadata": {},
   "outputs": [],
   "source": [
    "# 순차검색 (정렬) 코드 예시\n",
    "def sequentialSearch2(a,n,key):\n",
    "    i = 0\n",
    "    while i < n and a[i] < key:\n",
    "        i = i + 1\n",
    "    if i < n and a[i] == key: return i\n",
    "    else: return -1"
   ]
  },
  {
   "cell_type": "code",
   "execution_count": 8,
   "metadata": {},
   "outputs": [],
   "source": [
    "# 이진검색: 가운데의 항목의 키 값을 비교하여 다음 검색의 위치를 결정하고 검색을 계속하는 방법\n",
    "# 빠르게 검색을 수행함\n",
    "# 자료가 정렬된 상태여야함\n",
    "# 시간 복잡도: O(logn)"
   ]
  },
  {
   "cell_type": "code",
   "execution_count": 11,
   "metadata": {},
   "outputs": [],
   "source": [
    "# 이진검색 코드 1\n",
    "def binarySearch(a, key):\n",
    "    start = 0\n",
    "    end = len(a) - 1\n",
    "    while start <= end:\n",
    "        middle = start + (end-start) // 2 # 중간 값 구하기\n",
    "        if key == a[middle]: # 검색 성공\n",
    "            return True\n",
    "        elif key < a[middle]:\n",
    "            end = middle - 1\n",
    "        else:\n",
    "            start = middle + 1\n",
    "    return False # 검색 실패"
   ]
  },
  {
   "cell_type": "code",
   "execution_count": 12,
   "metadata": {},
   "outputs": [],
   "source": [
    "# 이진검색 재귀함수\n",
    "def binarySearch2(a, low, high, key): \n",
    "    if low > high:\n",
    "        return False\n",
    "    else: \n",
    "        middle = (low + high) // 2\n",
    "        if key == a[middle]: # 검색 성공\n",
    "            return True\n",
    "        elif key < a[middle]:\n",
    "            return binarySearch2(a,low,middle-1,key)\n",
    "        elif a[middle] < key:\n",
    "            return binarySearch2(a, middle + 1, high, key)"
   ]
  },
  {
   "cell_type": "code",
   "execution_count": 13,
   "metadata": {},
   "outputs": [],
   "source": [
    "# 인덱스: 데이터베이스에서 유래, 테이블에 대한 동작 속도를 높임\n",
    "# 룩 업 테이블이라고도 함"
   ]
  },
  {
   "cell_type": "markdown",
   "metadata": {},
   "source": [
    "## 정렬"
   ]
  },
  {
   "cell_type": "code",
   "execution_count": 14,
   "metadata": {},
   "outputs": [],
   "source": [
    "# 셀렉션 알고리즘: 저장되어 있는 자료로부터 k 번째로 큰 혹은 작은 원소를 찾는 방법\n",
    "# 최소값, 최대값 혹은 중간값을 찾는 알고리즘"
   ]
  },
  {
   "cell_type": "code",
   "execution_count": 17,
   "metadata": {},
   "outputs": [],
   "source": [
    "# 선택 정렬: 가장 작은 값의 원소부터 차례대로 선택하여 위치를 교환하는 방식\n",
    "# 셀렉션 알고리즘을 전체 자료에 적용한 것\n",
    "# 1. 최소값을 찾음\n",
    "# 2. 리스트의 맨 앞에 위치한 값과 교환\n",
    "# 3. 미정렬 리스트에서 최소값을 찾음\n",
    "# 4. 미정렬 리스트의 맨 앞에 위치한 값과 교환\n",
    "# 5. 반복"
   ]
  },
  {
   "cell_type": "code",
   "execution_count": 16,
   "metadata": {},
   "outputs": [],
   "source": [
    "def selectionSort(a): \n",
    "    for i in range(0, len(a) - 1):\n",
    "        min = i\n",
    "        for j in range(i+1, len(a)):\n",
    "            if a[min] > a[j]:\n",
    "                min = j\n",
    "        a[i], a[min] = a[min], a[i]"
   ]
  },
  {
   "cell_type": "markdown",
   "metadata": {},
   "source": [
    "## 문제 풀이"
   ]
  },
  {
   "cell_type": "code",
   "execution_count": 18,
   "metadata": {},
   "outputs": [],
   "source": [
    "# 4836: 색칠하기 \n",
    "# 그림과 같이 인덱스가 있는 10x10 격자에 빨간색과 파란색을 칠하려고 한다.\n",
    "# N개의 영역에 대해 왼쪽 위와 오른쪽 아래 모서리 인덱스, 칠할 색상이 주어질 때, 칠이 끝난 후 색이 겹쳐 보라색이 된 칸 수를 구하는 프로그램을 만드시오.\n",
    "# 주어진 정보에서 같은 색인 영역은 겹치지 않는다.\n",
    "\n",
    " # 예를 들어 2개의 색칠 영역을 갖는 위 그림에 대한 색칠 정보이다.\n",
    "# 2\n",
    "# 2 2 4 4 1  ( [2,2] 부터 [4,4] 까지 color 1 (빨강) 으로 칠한다 )\n",
    "# 3 3 6 6 2 ( [3,3] 부터 [6,6] 까지 color 2 (파랑) 으로 칠한다 )"
   ]
  },
  {
   "cell_type": "code",
   "execution_count": 19,
   "metadata": {},
   "outputs": [],
   "source": [
    "# 접근:\n",
    "# 빨간색의 좌표와 파란색의 좌표를 가지고 있는 set을 2개 만든다\n",
    "# 각각 좌표를 칠한 후 교집합을 뽑아 중복되는 부분만을 뽑아냄\n"
   ]
  },
  {
   "cell_type": "code",
   "execution_count": 25,
   "metadata": {},
   "outputs": [
    {
     "name": "stdin",
     "output_type": "stream",
     "text": [
      " 3\n",
      " 2\n",
      " 2 2 4 4 1\n",
      " 3 3 6 6 2\n"
     ]
    },
    {
     "name": "stdout",
     "output_type": "stream",
     "text": [
      "#1 4\n"
     ]
    },
    {
     "name": "stdin",
     "output_type": "stream",
     "text": [
      " 3\n",
      " 1 2 3 3 1\n",
      " 3 6 6 8 1\n",
      " 2 3 5 6 2\n"
     ]
    },
    {
     "name": "stdout",
     "output_type": "stream",
     "text": [
      "#2 5\n"
     ]
    },
    {
     "name": "stdin",
     "output_type": "stream",
     "text": [
      " 3\n",
      " 1 4 8 5 1 \n",
      " 1 8 3 9 1\n",
      " 3 2 5 8 2\n"
     ]
    },
    {
     "name": "stdout",
     "output_type": "stream",
     "text": [
      "#3 7\n"
     ]
    }
   ],
   "source": [
    "T = int(input()) # 테스트 케이스\n",
    "for t in range(T):\n",
    "    case = int(input()) # 색 입력\n",
    "    position = [set({}), set({})]\n",
    "    # 케이스 수만큼 반복\n",
    "    for i in range(case):\n",
    "        x1, y1, x2, y2, color = map(int, input().split())\n",
    "        # 두 좌표 사이의 좌표들 리턴, set에 넣는다\n",
    "        for a in range(x1, x2 + 1): # x 좌표 리턴\n",
    "            for b in range(y1, y2 + 1): # y 좌표 리턴\n",
    "                position[color-1].add((a,b)) # 생성된 x, y 좌표를 position set에 넣어줌\n",
    "    #교집합을 이용하여 겹치는 부분만 꺼냄\n",
    "    result = position[0] & position[1]\n",
    "    print('#{} {}'.format(t+1, len(result)))"
   ]
  },
  {
   "cell_type": "code",
   "execution_count": 1,
   "metadata": {},
   "outputs": [],
   "source": [
    "# 4837: 부분집합의 합 -> 다시보기\n",
    "# 1부터 12까지의 숫자를 원소로 가진 집합 A가 있다. 집합 A의 부분 집합 중 N개의 원소를 갖고 있고, 원소의 합이 K인 부분집합의 개수를 출력하는 프로그램을 작성하시오.\n",
    "# 해당하는 부분집합이 없는 경우 0을 출력한다. 모든 부분 집합을 만들어 답을 찾아도 된다.\n",
    "# 예를 들어 N = 3, K = 6 경우, 부분집합은 { 1, 2, 3 } 경우 1가지가 존재한다.\n",
    "# A = {1,2,3,4,5,6,7,8,9,10,11,12}"
   ]
  },
  {
   "cell_type": "code",
   "execution_count": 2,
   "metadata": {},
   "outputs": [],
   "source": [
    "# 접근:\n",
    "# 1. N개의 원소로 이루어져 있는 부분집합 모두 생성\n",
    "# 2. 각 부분 집합 모두 더 해본 후 K와 값이 일치하는 부분집합 수 더하기"
   ]
  },
  {
   "cell_type": "code",
   "execution_count": 91,
   "metadata": {},
   "outputs": [
    {
     "name": "stdin",
     "output_type": "stream",
     "text": [
      " 3\n",
      " 3 6\n"
     ]
    },
    {
     "name": "stdout",
     "output_type": "stream",
     "text": [
      "#1 1\n"
     ]
    },
    {
     "name": "stdin",
     "output_type": "stream",
     "text": [
      " 5 15\n"
     ]
    },
    {
     "name": "stdout",
     "output_type": "stream",
     "text": [
      "#2 1\n"
     ]
    },
    {
     "name": "stdin",
     "output_type": "stream",
     "text": [
      " 5 10\n"
     ]
    },
    {
     "name": "stdout",
     "output_type": "stream",
     "text": [
      "#3 0\n"
     ]
    }
   ],
   "source": [
    "def get_power_set(s):\n",
    "    set_a = [[]]\n",
    "    for i in s:\n",
    "        for j in set_a:\n",
    "            set_a = set_a+[list(j)+[i]]\n",
    "    return set_a\n",
    "\n",
    "T = int(input())\n",
    "A = [1,2,3,4,5,6,7,8,9,10,11,12]\n",
    "for i in range(T):\n",
    "    N, K = map(int, input().split())\n",
    "    count = 0\n",
    "    for j in get_power_set(A):\n",
    "        if len(j) == N and sum(j) == K:\n",
    "            count += 1\n",
    "    \n",
    "    print(\"#{} {}\".format(i+1, count))\n"
   ]
  },
  {
   "cell_type": "code",
   "execution_count": 19,
   "metadata": {},
   "outputs": [
    {
     "name": "stdin",
     "output_type": "stream",
     "text": [
      " 3\n",
      " 3 6\n"
     ]
    },
    {
     "name": "stdout",
     "output_type": "stream",
     "text": [
      "#1 1\n"
     ]
    },
    {
     "name": "stdin",
     "output_type": "stream",
     "text": [
      " 3 5\n"
     ]
    },
    {
     "name": "stdout",
     "output_type": "stream",
     "text": [
      "#2 0\n"
     ]
    },
    {
     "name": "stdin",
     "output_type": "stream",
     "text": [
      " 3 7\n"
     ]
    },
    {
     "name": "stdout",
     "output_type": "stream",
     "text": [
      "#3 1\n"
     ]
    }
   ],
   "source": [
    "# 다른 답안\n",
    "set_A = [num for num in range(1,13)]\n",
    "subset_A = [[set_A[j] for j in range(12) if i&(1<<j)] for i in range(1<<12)]\n",
    "\n",
    "T = int(input())\n",
    "\n",
    "for test_case in range(1, T + 1):\n",
    "    N, K = map(int, input().split())    # N : 부분집합 원소의 수, K : 부분집합의 합\n",
    "    cnt=0\n",
    "\n",
    "    for subset in subset_A:\n",
    "        if len(subset)==N and sum(subset)==K:\n",
    "            cnt+=1\n",
    "\n",
    "    print(\"#{} {}\".format(test_case, cnt))"
   ]
  },
  {
   "cell_type": "code",
   "execution_count": 26,
   "metadata": {},
   "outputs": [],
   "source": [
    "# 4839: 이진탐색 -> 굳\n",
    "# 코딩반 학생들에게 이진 탐색을 설명하던 선생님은 이진탐색을 연습할 수 있는 게임을 시켜 보기로 했다.\n",
    "# 짝을 이룬 A, B 두 사람에게 교과서에서 각자 찾을 쪽 번호를 알려주면, 이진 탐색만으로 지정된 페이지를 먼저 펼치는 사람이 이기는 게임이다.\n",
    "# 예를 들어 책이 총 400쪽이면, 검색 구간의 왼쪽 l=1, 오른쪽 r=400이 되고, 중간 페이지 c= int((l+r)/2)로 계산한다.\n",
    "# 찾는 쪽 번호가 c와 같아지면 탐색을 끝낸다.\n",
    "\n",
    "# 첫 줄에 테스트 케이스 개수 T가 주어진다.  1<=T<=50\n",
    "# 테스트 케이스 별로 책의 전체 쪽 수 P, A, B가 찾을 쪽 번호 Pa, Pb가 차례로 주어진다. 1<= P, Pa, Pb <=1000"
   ]
  },
  {
   "cell_type": "code",
   "execution_count": 27,
   "metadata": {},
   "outputs": [],
   "source": [
    "# 접근:\n",
    "# 전체 쪽수 P에 대해 주어진 A, B 별로 이진탐색을 실시한다\n",
    "# 이진탐색 실시 횟수를 저장한다\n",
    "# 각각 탐색 후 이진탐색 실시 횟수를 비교하여 숫자가 더 적은 사람을 리턴한다 (비긴 경우는 0)"
   ]
  },
  {
   "cell_type": "code",
   "execution_count": 34,
   "metadata": {},
   "outputs": [
    {
     "data": {
      "text/plain": [
       "9"
      ]
     },
     "execution_count": 34,
     "metadata": {},
     "output_type": "execute_result"
    }
   ],
   "source": [
    "def binarysearch(p, key):\n",
    "    start = 1\n",
    "    end = p\n",
    "    count = 0\n",
    "    while start <= end:\n",
    "        index = (start+end) // 2\n",
    "        count += 1\n",
    "        if index == key:\n",
    "            return count\n",
    "        elif index < key:\n",
    "            start = index\n",
    "        elif index > key:\n",
    "            end = index\n",
    "    return -1\n",
    "    \n",
    "binarysearch(400, 30)"
   ]
  },
  {
   "cell_type": "code",
   "execution_count": 40,
   "metadata": {},
   "outputs": [
    {
     "name": "stdin",
     "output_type": "stream",
     "text": [
      " 3\n",
      " 400 350 300\n"
     ]
    },
    {
     "name": "stdout",
     "output_type": "stream",
     "text": [
      "#1 B\n"
     ]
    },
    {
     "name": "stdin",
     "output_type": "stream",
     "text": [
      " 1000 299 578\n"
     ]
    },
    {
     "name": "stdout",
     "output_type": "stream",
     "text": [
      "#2 0\n"
     ]
    },
    {
     "name": "stdin",
     "output_type": "stream",
     "text": [
      " 1000 222 888\n"
     ]
    },
    {
     "name": "stdout",
     "output_type": "stream",
     "text": [
      "#3 A\n"
     ]
    }
   ],
   "source": [
    "T = int(input())\n",
    "# (400페이지, A가 찾아야할 쪽수, B가 찾아야할 쪽수)\n",
    "\n",
    "# 이진 탐색 함수\n",
    "def binarysearch(p, key):\n",
    "    start = 1\n",
    "    end = p\n",
    "    count = 0\n",
    "    while start <= end:\n",
    "        index = (start+end) // 2\n",
    "        count += 1\n",
    "        if index == key:\n",
    "            return count\n",
    "        elif index < key:\n",
    "            start = index\n",
    "        elif index > key:\n",
    "            end = index\n",
    "    return -1\n",
    "        \n",
    "\n",
    "for i in range(T):\n",
    "    P, A, B = map(int, input().split())\n",
    "    a = binarysearch(P, A)\n",
    "    b = binarysearch(P, B)\n",
    "    result = ''\n",
    "    if a > b:\n",
    "        result = 'B'\n",
    "    elif a < b:\n",
    "        result = 'A'\n",
    "    else:\n",
    "        result = '0'\n",
    "    print('#{} {}'.format(i+1, result))\n"
   ]
  },
  {
   "cell_type": "code",
   "execution_count": 41,
   "metadata": {},
   "outputs": [],
   "source": [
    "# 4843: 특별한 정렬 -> 품\n",
    "# 보통의 정렬은 오름차순이나 내림차순으로 이루어지지만, 이번에는 특별한 정렬을 하려고 한다.\n",
    "# N개의 정수가 주어지면 가장 큰 수, 가장 작은 수, 2번째 큰 수, 2번째 작은 수 식으로 큰 수와 작은 수를 번갈아 정렬하는 방법이다.\n",
    "# 예를 들어 1부터 10까지 10개의 숫자가 주어지면 다음과 같이 정렬한다.\n",
    "# 10 1 9 2 8 3 7 4 6 5\n",
    "# 주어진 숫자에 대해 특별한 정렬을 한 결과를 10개까지 출력하시오"
   ]
  },
  {
   "cell_type": "code",
   "execution_count": 42,
   "metadata": {},
   "outputs": [],
   "source": [
    "# 접근:\n",
    "# 1. 리스트를 sort 해줌\n",
    "# 2. 리스트에서 가장 큰 수, 즉 마지막 인덱스를 새로운 리스트에 append를 해줌\n",
    "# 2. 리스트에서 가장 작은 수, 즉 첫번째 인덱스를 append 해줌\n",
    "# 3. 반복한다"
   ]
  },
  {
   "cell_type": "code",
   "execution_count": 92,
   "metadata": {},
   "outputs": [
    {
     "name": "stdin",
     "output_type": "stream",
     "text": [
      " 3\n",
      " 10\n",
      " 1 2 3 4 5 6 7 8 9 10\n"
     ]
    },
    {
     "name": "stdout",
     "output_type": "stream",
     "text": [
      "#1 10 1 9 2 8 3 7 4 6 5\n"
     ]
    },
    {
     "name": "stdin",
     "output_type": "stream",
     "text": [
      " 10\n",
      " 67 39 16 49 60 28 8 85 89 11\n"
     ]
    },
    {
     "name": "stdout",
     "output_type": "stream",
     "text": [
      "#2 89 8 85 11 67 16 60 28 49 39\n"
     ]
    },
    {
     "name": "stdin",
     "output_type": "stream",
     "text": [
      " 20\n",
      " 3 69 21 46 43 60 62 97 64 30 17 88 18 98 71 75 59 36 9 26\t\n"
     ]
    },
    {
     "name": "stdout",
     "output_type": "stream",
     "text": [
      "#3 98 3 97 9 88 17 75 18 71 21\n"
     ]
    }
   ],
   "source": [
    "T = int(input())\n",
    "for t in range(1, T+1):\n",
    "    num = input()\n",
    "    lst = list(map(int, input().split())) # input list\n",
    "    lst.sort() #sorted input list\n",
    "    result = [] #특별한 정렬 저장 리스트\n",
    "    count = 0\n",
    "    while count<10:\n",
    "        if count & 1: # 카운트가 홀수일때\n",
    "            result.append(lst.pop(0))\n",
    "        else:\n",
    "            result.append(lst.pop())\n",
    "        count+=1\n",
    "    print(\"#{} \".format(t), end='')\n",
    "    print(*result)"
   ]
  },
  {
   "cell_type": "code",
   "execution_count": null,
   "metadata": {},
   "outputs": [],
   "source": [
    "def solution(number, k):\n",
    "    answer = ''\n",
    "    \n",
    "    return answer"
   ]
  },
  {
   "cell_type": "code",
   "execution_count": 98,
   "metadata": {},
   "outputs": [
    {
     "ename": "TypeError",
     "evalue": "'int' object is not iterable",
     "output_type": "error",
     "traceback": [
      "\u001b[0;31m---------------------------------------------------------------------------\u001b[0m",
      "\u001b[0;31mTypeError\u001b[0m                                 Traceback (most recent call last)",
      "\u001b[0;32m<ipython-input-98-73ef136b011f>\u001b[0m in \u001b[0;36m<module>\u001b[0;34m\u001b[0m\n\u001b[1;32m      1\u001b[0m \u001b[0ma\u001b[0m \u001b[0;34m=\u001b[0m \u001b[0;36m363\u001b[0m\u001b[0;34m\u001b[0m\u001b[0;34m\u001b[0m\u001b[0m\n\u001b[0;32m----> 2\u001b[0;31m \u001b[0mb\u001b[0m \u001b[0;34m=\u001b[0m \u001b[0mlist\u001b[0m\u001b[0;34m(\u001b[0m\u001b[0ma\u001b[0m\u001b[0;34m)\u001b[0m\u001b[0;34m\u001b[0m\u001b[0;34m\u001b[0m\u001b[0m\n\u001b[0m",
      "\u001b[0;31mTypeError\u001b[0m: 'int' object is not iterable"
     ]
    }
   ],
   "source": [
    "a = 363\n",
    "b = list(a)\n"
   ]
  },
  {
   "cell_type": "code",
   "execution_count": 115,
   "metadata": {},
   "outputs": [],
   "source": [
    "num = 353\n",
    "num = str(num)\n",
    "lst = list(map(int, num.split()))"
   ]
  },
  {
   "cell_type": "code",
   "execution_count": 116,
   "metadata": {},
   "outputs": [
    {
     "data": {
      "text/plain": [
       "[353]"
      ]
     },
     "execution_count": 116,
     "metadata": {},
     "output_type": "execute_result"
    }
   ],
   "source": [
    "lst"
   ]
  },
  {
   "cell_type": "code",
   "execution_count": null,
   "metadata": {},
   "outputs": [],
   "source": [
    "def(num):\n",
    "    while num:\n",
    "        "
   ]
  },
  {
   "cell_type": "code",
   "execution_count": 118,
   "metadata": {},
   "outputs": [
    {
     "data": {
      "text/plain": [
       "3.6"
      ]
     },
     "execution_count": 118,
     "metadata": {},
     "output_type": "execute_result"
    }
   ],
   "source": [
    "360/100"
   ]
  },
  {
   "cell_type": "code",
   "execution_count": 119,
   "metadata": {},
   "outputs": [
    {
     "ename": "TypeError",
     "evalue": "'int' object is not iterable",
     "output_type": "error",
     "traceback": [
      "\u001b[0;31m---------------------------------------------------------------------------\u001b[0m",
      "\u001b[0;31mTypeError\u001b[0m                                 Traceback (most recent call last)",
      "\u001b[0;32m<ipython-input-119-ffeedec9dcc6>\u001b[0m in \u001b[0;36m<module>\u001b[0;34m\u001b[0m\n\u001b[0;32m----> 1\u001b[0;31m \u001b[0menumerate\u001b[0m\u001b[0;34m(\u001b[0m\u001b[0;36m356\u001b[0m\u001b[0;34m)\u001b[0m\u001b[0;34m\u001b[0m\u001b[0;34m\u001b[0m\u001b[0m\n\u001b[0m",
      "\u001b[0;31mTypeError\u001b[0m: 'int' object is not iterable"
     ]
    }
   ],
   "source": [
    "enumerate(356)"
   ]
  },
  {
   "cell_type": "code",
   "execution_count": 120,
   "metadata": {},
   "outputs": [
    {
     "ename": "TypeError",
     "evalue": "'int' object is not iterable",
     "output_type": "error",
     "traceback": [
      "\u001b[0;31m---------------------------------------------------------------------------\u001b[0m",
      "\u001b[0;31mTypeError\u001b[0m                                 Traceback (most recent call last)",
      "\u001b[0;32m<ipython-input-120-6e3b5d915707>\u001b[0m in \u001b[0;36m<module>\u001b[0;34m\u001b[0m\n\u001b[1;32m      1\u001b[0m \u001b[0mnumber\u001b[0m \u001b[0;34m=\u001b[0m \u001b[0;36m301\u001b[0m\u001b[0;34m\u001b[0m\u001b[0;34m\u001b[0m\u001b[0m\n\u001b[0;32m----> 2\u001b[0;31m \u001b[0mnumber\u001b[0m \u001b[0;34m=\u001b[0m \u001b[0mlist\u001b[0m\u001b[0;34m(\u001b[0m\u001b[0mnumber\u001b[0m\u001b[0;34m)\u001b[0m\u001b[0;34m\u001b[0m\u001b[0;34m\u001b[0m\u001b[0m\n\u001b[0m",
      "\u001b[0;31mTypeError\u001b[0m: 'int' object is not iterable"
     ]
    }
   ],
   "source": [
    "number = 301\n",
    "number = list(number)"
   ]
  },
  {
   "cell_type": "code",
   "execution_count": 122,
   "metadata": {},
   "outputs": [
    {
     "name": "stdout",
     "output_type": "stream",
     "text": [
      "3\n",
      "6\n",
      "2\n"
     ]
    }
   ],
   "source": [
    "number = '362'\n",
    "for i in number:\n",
    "    print(i)"
   ]
  },
  {
   "cell_type": "code",
   "execution_count": null,
   "metadata": {},
   "outputs": [],
   "source": []
  }
 ],
 "metadata": {
  "kernelspec": {
   "display_name": "Python 3",
   "language": "python",
   "name": "python3"
  },
  "language_info": {
   "codemirror_mode": {
    "name": "ipython",
    "version": 3
   },
   "file_extension": ".py",
   "mimetype": "text/x-python",
   "name": "python",
   "nbconvert_exporter": "python",
   "pygments_lexer": "ipython3",
   "version": "3.7.4"
  }
 },
 "nbformat": 4,
 "nbformat_minor": 4
}
